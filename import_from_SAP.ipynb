{
 "cells": [
  {
   "cell_type": "code",
   "execution_count": 482,
   "metadata": {},
   "outputs": [],
   "source": [
    "### Script para pegar as marcações de ponto do SAP e adicionar no Excel de controle de ponto\n",
    "import pandas as pd\n",
    "import pdfplumber\n",
    "import PyPDF2\n",
    "import numpy as np\n",
    "import xlwings\n",
    "from datetime import datetime\n",
    "# import time\n",
    "from re import search as re_search\n",
    "import locale\n",
    "import os\n",
    "import win32com.client\n",
    "\n",
    "# Para gerar o .exe: pyinstaller --onefile --name \"import_from_SAP\" import_from_SAP.py"
   ]
  },
  {
   "cell_type": "code",
   "execution_count": null,
   "metadata": {},
   "outputs": [],
   "source": [
    "#\"Definição\" de constantes\n",
    "VERSAO = 'v1.0.0-python'\n",
    "ARQUIVO_PDF_DEFAULT = 'smart.pdf'\n",
    "ARQUIVO_EXCEL_DEFAULT_INI = 'Controle de Horas '\n",
    "ARQUIVO_EXCEL_DEFAULT_FIM = '.xlsm'"
   ]
  },
  {
   "cell_type": "code",
   "execution_count": 484,
   "metadata": {},
   "outputs": [],
   "source": [
    "#Função para verificar se o Excel já está aberto manualmente e se o arquivo está na lista\n",
    "def is_workbook_open(filename):\n",
    "    # excel_instances = win32com.client.GetObject(None, \"Excel.Application\")\n",
    "    excel_instances = win32com.client.Dispatch(\"Excel.Application\")\n",
    "    for workbook in excel_instances.Workbooks:\n",
    "        if workbook.FullName.lower() == os.path.abspath(filename).lower():\n",
    "            if workbook.ReadOnly: # Essa parte vai crashar o arquivo, mas vai conseguir pelo menos finalizar o import, o ideal é que o arquivo já tenha sido salvo habilitado para edição certinho pelo menos uma vez\n",
    "                excel_instances.EnableEvents = True\n",
    "            return True\n",
    "    return False"
   ]
  },
  {
   "cell_type": "code",
   "execution_count": 485,
   "metadata": {},
   "outputs": [],
   "source": [
    "#Função para pegar retornar a posição da linha extra a ser adicionada no fim da tabela\n",
    "def extra_line(page):\n",
    "    text_data = page.extract_words()\n",
    "    if text_data:\n",
    "        return text_data[-1][\"bottom\"]\n",
    "    return 0"
   ]
  },
  {
   "cell_type": "code",
   "execution_count": null,
   "metadata": {},
   "outputs": [],
   "source": [
    "print(f'## Versão: {VERSAO} ##\\n')\n",
    "print('Este programa serve para importar os dados exportados pelo SAP para o Excel de Controle de Ponto.\\n')\n",
    "print('!!!ATENÇÃO!!!\\n'\\\n",
    "    'Para que o script funcione, é importante que o arquivo Excel, o PDF e o próprio script estejam todos numa mesma pasta.')"
   ]
  },
  {
   "cell_type": "code",
   "execution_count": 487,
   "metadata": {},
   "outputs": [],
   "source": [
    "'''Pegando o nome do arquivo .pdf e extrai algumas informações'''\n",
    "while True:\n",
    "    arquivo_pdf = input('\\nDigite o nome do PDF com as marcações de ponto:\\n'\\\n",
    "                    f'(O arquivo padrão é \"{ARQUIVO_PDF_DEFAULT}\", para usá-lo, apenas tecle Enter)\\n>')\\\n",
    "                    or ARQUIVO_PDF_DEFAULT\n",
    "    if arquivo_pdf[-4:] != '.pdf': arquivo_pdf = arquivo_pdf + '.pdf'\n",
    "    try:\n",
    "        with open(arquivo_pdf, 'rb') as pdf_file:\n",
    "            pdf_reader = PyPDF2.PdfReader(pdf_file) # Lê o pdf\n",
    "            npages = len(pdf_reader.pages) # Número de páginas\n",
    "            page1 = pdf_reader.pages[0].extract_text() # Usa a primeira página porque sei que a info está lá\n",
    "        break\n",
    "    except FileNotFoundError:\n",
    "        print(f'\\nO arquivo \"{arquivo_pdf}\" não foi encontrado.')"
   ]
  },
  {
   "cell_type": "code",
   "execution_count": 488,
   "metadata": {},
   "outputs": [],
   "source": [
    "'''Extrai as informações de ano e mês do pdf'''\n",
    "# ini = page1.find('\\n')\n",
    "# fim = page1.find('\\n', ini+1)\n",
    "# page1 = page1[(ini+1):fim]\n",
    "match = re_search(r'\\d{2}\\.\\d{2}\\.\\d{4}',page1)\n",
    "data = datetime.strptime(match.group(),'%d.%m.%Y')\n",
    "locale.setlocale(locale.LC_TIME, 'pt_BR.UTF-8')\n",
    "mes = datetime.strftime(data,'%b').capitalize()\n",
    "ano = datetime.strftime(data,'%Y')"
   ]
  },
  {
   "cell_type": "code",
   "execution_count": 489,
   "metadata": {},
   "outputs": [],
   "source": [
    "'''Pegando o nome do arquivo excel'''\n",
    "while True:\n",
    "    arquivo_excel = input('\\nDigite o nome da sua planilha do EXCEL de controle de pontos:\\n'\\\n",
    "                    f'(Se o nome da sua planilha for \"{ARQUIVO_EXCEL_DEFAULT_INI}{ano}{ARQUIVO_EXCEL_DEFAULT_FIM}\", apenas tecle Enter)\\n>')\\\n",
    "                    or ARQUIVO_EXCEL_DEFAULT_INI + ano + ARQUIVO_EXCEL_DEFAULT_FIM\n",
    "    if arquivo_excel[-5:] != '.xlsm' and arquivo_excel[-5:] != '.xlsx':\n",
    "        arquivo_excel = arquivo_excel + '.xlsm'\n",
    "    if os.path.exists(arquivo_excel):\n",
    "        #Arquivo excel existe\n",
    "        break\n",
    "    else:\n",
    "        print(f'\\nO arquivo \"{arquivo_excel}\" não foi encontrado.')"
   ]
  },
  {
   "cell_type": "code",
   "execution_count": null,
   "metadata": {},
   "outputs": [],
   "source": [
    "print('\\nProcessando...')"
   ]
  },
  {
   "cell_type": "code",
   "execution_count": 491,
   "metadata": {},
   "outputs": [],
   "source": [
    "'''Extrai as tabelas do pdf (pega a principal tabela de cada página, que já o que nos atende)'''\n",
    "DF = [] # array com os dataframes\n",
    "with pdfplumber.open(arquivo_pdf) as pdf:\n",
    "    # Selecione a página desejada\n",
    "    for p in range(npages):\n",
    "        page = pdf.pages[p]\n",
    "        # Extraia a tabela da página (adição de linha abaixo para corrigir a falta de linha do SAP no das tabelas com meses incompletos)\n",
    "        table = page.extract_table(table_settings={\"explicit_horizontal_lines\": [extra_line(page)]})\n",
    "        if table:\n",
    "            # Converta a tabela para DataFrame\n",
    "            df = pd.DataFrame(table[1:], columns=table[0])\n",
    "            DF.append(df)"
   ]
  },
  {
   "cell_type": "code",
   "execution_count": null,
   "metadata": {},
   "outputs": [],
   "source": [
    "# Seção de testes, desconsidere\n",
    "'''\n",
    "with pdfplumber.open(arquivo_pdf) as pdf:           \n",
    "    page = pdf.pages[0]\n",
    "    im = page.to_image()\n",
    "    table = page.extract_table(table_settings={\"explicit_horizontal_lines\": [781.206]}) # antigo: 775\n",
    "    if table:\n",
    "        df = pd.DataFrame(table[1:], columns=table[0])\n",
    "\n",
    "horizontal_lines = [line for line in page.lines if line[\"y1\"] == line[\"y0\"]]\n",
    "last_hl = horizontal_lines[-1]\n",
    "for h in horizontal_lines:\n",
    "    if h[\"y1\"] > last_hl[\"y1\"]:\n",
    "        last_hl = h\n",
    "display(last_hl)\n",
    "display(last_hl[\"y1\"])\n",
    "text_data = page.extract_words()\n",
    "last_text = text_data[-1]\n",
    "display(last_text[\"bottom\"])\n",
    "display(last_text)\n",
    "display(df)\n",
    "im.debug_tablefinder(table_settings={\"explicit_horizontal_lines\": [last_text[\"bottom\"]]})\n",
    "# im.debug_tablefinder(table_settings={\"explicit_horizontal_lines\": [last_hl[\"y1\"]+0]})\n",
    "\n",
    "# display(list(df.columns))\n",
    "# display(table[0])\n",
    "\n",
    "# TAB = DF[0]\n",
    "# display(TAB.columns)\n",
    "# display(list(range(1,len(DF))))\n",
    "'''"
   ]
  },
  {
   "cell_type": "code",
   "execution_count": 493,
   "metadata": {},
   "outputs": [],
   "source": [
    "'''Junta cada tabela extraída em uma só, eliminando as tabelas que não nos interessa (que não contêm registro de ponto)'''\n",
    "TAB = DF[0] # Estou definindo a primeira tabela como referência porque eu sei com certeza que ela é a tabela correta de pontos\n",
    "for i in range(1,len(DF)):\n",
    "    tab2 = DF[i]\n",
    "    if list(TAB.columns) == list(tab2.columns):\n",
    "        TAB = pd.concat([TAB, tab2], ignore_index=True)"
   ]
  },
  {
   "cell_type": "code",
   "execution_count": 494,
   "metadata": {},
   "outputs": [],
   "source": [
    "'''Tratamento da tabela maior, que contém todos os registros de pontos, para que só sobre linhas com Marcação de ponto, nada mais'''\n",
    "#Seleciona as colunas de interesse\n",
    "tab = TAB.iloc[:,np.r_[0,2:5]].copy()\n",
    "#Expande a informação de 'Dia' para todas as linhas\n",
    "for i in range(1,len(tab)):\n",
    "    if tab.loc[i,'Dia'] == '':\n",
    "        tab.loc[i,'Dia'] = tab.loc[i-1,'Dia']\n",
    "#Renomeia as colunas e cria o restante das colunas de ponto (de 2 colunas para 4)\n",
    "tab.rename(columns={tab.columns[1]: 'Descrição', 'De':'Entrada', 'Até':'Saída Almoço'}, inplace=True)\n",
    "tab['Retorno Almoço'] = ''\n",
    "tab['Saída'] = ''\n",
    "#Filtra apenas as linhas com Marcação de ponto e regenera os índices das linhas\n",
    "tab = tab[tab['Descrição']=='Marcação']\n",
    "tab.reset_index(drop = True, inplace=True)\n",
    "#Trata os dias que possuem 2 marcações e os que possuem 4 para que só haja uma linha por dia\n",
    "for i in range(len(tab)-1):\n",
    "    if tab.at[i,'Descrição'] == 'Marcação':\n",
    "        if tab.at[i,'Dia'] == tab.loc[i+1,'Dia']:\n",
    "            tab.loc[i,['Retorno Almoço', 'Saída']] = tab.loc[i+1,['Entrada', 'Saída Almoço']].values\n",
    "            tab.at[i+1,'Descrição'] = 'Apagar'\n",
    "        else:\n",
    "            tab.at[i,'Saída'] = tab.at[i,'Saída Almoço']\n",
    "            tab.at[i,'Saída Almoço'] = ''\n",
    "#Filtra novamente para retirar as linhas que não são mais necessárias e regenera os índices\n",
    "tab = tab[tab['Descrição']=='Marcação']\n",
    "tab.reset_index(drop = True, inplace=True)\n",
    "#Converte os dias para dado numérico\n",
    "tab['Dia'] = pd.to_numeric(tab['Dia'])\n",
    "#Acrescenta os dias que não têm marcação para a tabela ficar com tamanho constante de 31\n",
    "if tab['Dia'].tail(1).item() != 31: # Marca o último dia para evitar erros\n",
    "    tab.loc[len(tab)] = ''\n",
    "    tab.loc[tab.index[-1], 'Dia'] = 31\n",
    "for i in range(31):\n",
    "    if tab.at[i,'Dia'] != i+1:\n",
    "        new_line = {col: '' for col in tab.columns}  # Gera uma linha vazia\n",
    "        new_line['Dia'] = i+1  # Adicione valor à primeira coluna\n",
    "        new_line = pd.DataFrame([new_line])\n",
    "        tab = pd.concat([tab.iloc[:i], new_line, tab.iloc[i:]]).reset_index(drop=True)\n",
    "#Converte os Pontos em tipo tempo para inserir no excel\n",
    "time_tab = tab.iloc[:, -4:].apply(lambda x: x.apply(lambda y: datetime.strptime(y.split()[0], '%H:%M') if y else ''))"
   ]
  },
  {
   "cell_type": "code",
   "execution_count": null,
   "metadata": {},
   "outputs": [],
   "source": [
    "'''Seção de visualização'''\n",
    "'''\n",
    "pd.set_option('display.max_rows', 136)\n",
    "# display(TAB)\n",
    "display(tab)\n",
    "# display(time_tab)\n",
    "# display(time_tab.iloc[:, -4:].applymap(lambda x: x.strftime('%H:%M') if x else ''))\n",
    "pd.reset_option('display.max_rows')\n",
    "'''"
   ]
  },
  {
   "cell_type": "code",
   "execution_count": null,
   "metadata": {},
   "outputs": [],
   "source": [
    "'''Insere os dados na planilha excel (pacote openpyxl não deu certo, ele transforma as fórmulas em valores)'''\n",
    "'''\n",
    "excel_file = 'Controle de Horas 2025 - Com Macro.xlsm'\n",
    "mes = 'Nov'\n",
    "workbook = openpyxl.load_workbook(excel_file, keep_vba=True)\n",
    "sheet = workbook[mes]\n",
    "\n",
    "# Escrever os valores no range\n",
    "for i, row in enumerate(time_tab.iloc[:,-4:].itertuples(index=False), start=2): # começa na linha 2\n",
    "    for j, ponto in enumerate(row, start=4): # começa na coluna D\n",
    "        if ponto:\n",
    "            sheet.cell(row=i, column=j, value=(ponto.hour*60+ponto.minute)/(24*60))\n",
    "\n",
    "workbook.save(excel_file)\n",
    "'''"
   ]
  },
  {
   "cell_type": "code",
   "execution_count": 501,
   "metadata": {},
   "outputs": [],
   "source": [
    "'''Abre o excel'''\n",
    "# Tenta encontrar o arquivo já aberto\n",
    "if is_workbook_open(arquivo_excel):\n",
    "    #Esse trecho abaixo é uma gambiarra, não consigo passar um objeto do win32com.client (workbook_com, antigo retorno da função is_workbook_open)\n",
    "    #para o xlwings (app), então tive que ativar o workbook_com e capturar a janela ativa com apps.active\n",
    "    # workbook_com.Activate() # Esse \n",
    "    # time.sleep(1) # Achei que pudesse ser necessário, mas parece que deu certo sem\n",
    "    # app = xlwings.apps.active\n",
    "    # workbook = [book for book in app.books if book.fullname.lower() == os.path.abspath(arquivo_excel).lower()][0]  # Localiza o workbook no xlwings\n",
    "\n",
    "    #Resolvi fazer essa abordagem que deu certo e me pareceu mais segura e limpa\n",
    "    workbook = xlwings.Book(os.path.abspath(arquivo_excel)) # Abre o workbook pelo seu caminho\n",
    "    workbook.activate() # Ativa a planilha correta\n",
    "    app = xlwings.apps.active # Captura o Excel ativo\n",
    "    app.api.WindowState = -4137 # Maximiza a janela do Excel\n",
    "    fechar = False # O arquivo já estava aberto, então não precisamos fechar ao final\n",
    "else:\n",
    "# Se não estiver aberto, cria uma nova instância oculta do Excel\n",
    "    app = xlwings.App(visible=False) # Cria uma nova instância invisível\n",
    "    workbook = app.books.open(arquivo_excel) # Abre o arquivo Excel\n",
    "    fechar = True # Indica que criamos uma nova instância e que precisamos fechar no final do código"
   ]
  },
  {
   "cell_type": "code",
   "execution_count": 498,
   "metadata": {},
   "outputs": [],
   "source": [
    "'''Insere os dados na planilha excel'''\n",
    "sheet = workbook.sheets[mes]  # Seleciona a planilha\n",
    "sheet.activate() # Mostra a planilha\n",
    "\n",
    "# time_tab = time_tab.values.tolist() # Converte para lista de listas\n",
    "\n",
    "# Escrever os valores no range\n",
    "for r, row in enumerate(time_tab.itertuples(index=False), start=2): # começa na linha 2\n",
    "    for c, ponto in enumerate(row, start=4): # começa na coluna D\n",
    "        if ponto:\n",
    "            sheet.range((r,c)).value = (ponto.hour*60+ponto.minute)/(24*60)\n",
    "            # time.sleep(0.05) # delay de 0,05s"
   ]
  },
  {
   "cell_type": "code",
   "execution_count": 499,
   "metadata": {},
   "outputs": [],
   "source": [
    "'''Fecha o excel'''\n",
    "# Salva e fecha apenas se criamos uma nova instância\n",
    "if fechar:\n",
    "    workbook.save()     # Salva as alterações\n",
    "    workbook.close()    # Fecha o arquivo\n",
    "    app.quit()          # Fecha o Excel"
   ]
  },
  {
   "cell_type": "code",
   "execution_count": null,
   "metadata": {},
   "outputs": [],
   "source": [
    "print(f'\\nInformações de ponto de \"{arquivo_pdf}\" carregadas em \"{arquivo_excel}\" com sucesso!')\n",
    "input(\"\\nPressione Enter para fechar.\")"
   ]
  }
 ],
 "metadata": {
  "kernelspec": {
   "display_name": "Python 3",
   "language": "python",
   "name": "python3"
  },
  "language_info": {
   "codemirror_mode": {
    "name": "ipython",
    "version": 3
   },
   "file_extension": ".py",
   "mimetype": "text/x-python",
   "name": "python",
   "nbconvert_exporter": "python",
   "pygments_lexer": "ipython3",
   "version": "3.12.3"
  }
 },
 "nbformat": 4,
 "nbformat_minor": 2
}
